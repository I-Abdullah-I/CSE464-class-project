{
  "cells": [
    {
      "cell_type": "markdown",
      "metadata": {
        "id": "K6ZaXiJBP-vz"
      },
      "source": [
        "# **Car Detection Project**"
      ]
    },
    {
      "cell_type": "code",
      "execution_count": 25,
      "metadata": {
        "id": "b3kC9kiiPfYW"
      },
      "outputs": [],
      "source": [
        "import numpy as np\n",
        "import cv2\n",
        "from sklearn.preprocessing import StandardScaler\n",
        "from skimage.feature import hog\n",
        "from scipy.ndimage import label\n",
        "import collections\n",
        "\n",
        "%matplotlib inline"
      ]
    },
    {
      "cell_type": "markdown",
      "metadata": {
        "id": "i8KerUY-dalL"
      },
      "source": [
        "# **Extracting Features**"
      ]
    },
    {
      "cell_type": "code",
      "execution_count": 26,
      "metadata": {
        "id": "tpRJ950bu_XY"
      },
      "outputs": [],
      "source": [
        "# Define a function to compute binned color features  \n",
        "def bin_spatial(img, size=(32, 32)):\n",
        "    # Use cv2.resize().ravel() to create the feature vector\n",
        "    features = cv2.resize(img, size).ravel() \n",
        "    # Return the feature vector\n",
        "    return features\n",
        "\n",
        "# Define a function to compute color histogram features  \n",
        "def color_hist(img, nbins=32, bins_range=(0, 256)):\n",
        "    # Compute the histogram of the color channels separately\n",
        "    channel1_hist = np.histogram(img[:,:,0], bins=nbins, range=bins_range)\n",
        "    channel2_hist = np.histogram(img[:,:,1], bins=nbins, range=bins_range)\n",
        "    channel3_hist = np.histogram(img[:,:,2], bins=nbins, range=bins_range)\n",
        "    # Concatenate the histograms into a single feature vector\n",
        "    hist_features = np.concatenate((channel1_hist[0], channel2_hist[0], channel3_hist[0]))\n",
        "    # Return the individual histograms, bin_centers and feature vector\n",
        "    return hist_features\n",
        "\n",
        "# Define a function to return HOG features and visualization\n",
        "def get_hog_features(img, orient, pix_per_cell, cell_per_block, \n",
        "                        vis=False, feature_vec=True):\n",
        "    # Call with two outputs if vis==True\n",
        "    if vis == True:\n",
        "        features, hog_image = hog(img, orientations=orient, pixels_per_cell=(pix_per_cell, pix_per_cell),\n",
        "                                  cells_per_block=(cell_per_block, cell_per_block), transform_sqrt=True, \n",
        "                                  visualize=vis, feature_vector=feature_vec)\n",
        "        return features, hog_image\n",
        "    # Otherwise call with one output\n",
        "    else:      \n",
        "        features = hog(img, orientations=orient, pixels_per_cell=(pix_per_cell, pix_per_cell),\n",
        "                       cells_per_block=(cell_per_block, cell_per_block), transform_sqrt=True, \n",
        "                       visualize=vis, feature_vector=feature_vec)\n",
        "        return features\n",
        "\n",
        "# Define a function to extract features from a list of images\n",
        "# Have this function call bin_spatial() and color_hist()\n",
        "def extract_features(imgs, spatial_size=(32, 32),\n",
        "                        hist_bins=32, hist_range=(0, 256),  orient=9, \n",
        "                        pix_per_cell=8, cell_per_block=2, hog_channel=0, vis=False):\n",
        "    # Create a list to append feature vectors to\n",
        "    features = []\n",
        "    # Iterate through the list of images\n",
        "    for file in imgs:\n",
        "        # Read in each one by one\n",
        "        image = cv2.imread(file)\n",
        "        # apply color conversion to YCrCb\n",
        "        feature_image = cv2.cvtColor(image, cv2.COLOR_BGR2YCrCb)\n",
        "   \n",
        "        # Apply bin_spatial() to get spatial color features\n",
        "        spatial_features = bin_spatial(feature_image, size=spatial_size)\n",
        "        # Apply color_hist() also with a color space option now\n",
        "        hist_features = color_hist(feature_image, nbins=hist_bins, bins_range=hist_range)\n",
        "        \n",
        "        # Call get_hog_features() with vis=False, feature_vec=True\n",
        "        \n",
        "        if hog_channel == 'ALL':\n",
        "            hog_features = []\n",
        "            for channel in range(feature_image.shape[2]):\n",
        "                hog_features.append(get_hog_features(feature_image[:,:,channel], \n",
        "                                    orient, pix_per_cell, cell_per_block, \n",
        "                                    vis=False, feature_vec=True))\n",
        "            hog_features = np.ravel(hog_features)        \n",
        "        else:\n",
        "            hog_features = get_hog_features(feature_image[:,:,hog_channel], orient, \n",
        "                        pix_per_cell, cell_per_block, vis=False, feature_vec=True)\n",
        "        \n",
        "        # Append the new feature vector to the features list\n",
        "        features.append(np.concatenate((spatial_features, hist_features, hog_features)))\n",
        "    # Return list of feature vectors\n",
        "    return features"
      ]
    },
    {
      "cell_type": "markdown",
      "metadata": {
        "id": "8sAMZATBkB39"
      },
      "source": [
        "# **Define parameters**\n"
      ]
    },
    {
      "cell_type": "code",
      "execution_count": 27,
      "metadata": {
        "id": "dHEaxQZUkFH2"
      },
      "outputs": [],
      "source": [
        "# Define HOG parameters\n",
        "orient = 12\n",
        "pix_per_cell = 8\n",
        "cell_per_block = 2\n",
        "hog_channel = \"ALL\" # Can be 0, 1, 2, or \"ALL\"\n",
        "\n",
        "# Spatial size and histogram parameters\n",
        "spatial_size=(16, 16)\n",
        "hist_bins=16"
      ]
    },
    {
      "cell_type": "markdown",
      "metadata": {
        "id": "p0zPk2NZkzNL"
      },
      "source": [
        "# **Extract features and make prediction**"
      ]
    },
    {
      "cell_type": "code",
      "execution_count": 28,
      "metadata": {
        "id": "OmTid_E2k2Ou"
      },
      "outputs": [],
      "source": [
        "# Define a single function that can extract features using hog sub-sampling and make predictions\n",
        "def find_cars(img, ystart, ystop, scale, svc, X_scaler, orient, pix_per_cell, cell_per_block, spatial_size, hist_bins):\n",
        "    draw_img = np.copy(img)\n",
        "    draw_img_all_windows = np.copy(img)\n",
        "    img = img.astype(np.float32)/255\n",
        "\n",
        "    \n",
        "    bbox_list = []\n",
        "    \n",
        "    img_tosearch = img[ystart:ystop,:,:]\n",
        "    ctrans_tosearch =  cv2.cvtColor(img_tosearch, cv2.COLOR_RGB2YCrCb)\n",
        "    if scale != 1:\n",
        "        imshape = ctrans_tosearch.shape\n",
        "        ctrans_tosearch = cv2.resize(ctrans_tosearch, (np.int32(imshape[1]/scale), np.int32(imshape[0]/scale)))\n",
        "        \n",
        "    ch1 = ctrans_tosearch[:,:,0]\n",
        "    ch2 = ctrans_tosearch[:,:,1]\n",
        "    ch3 = ctrans_tosearch[:,:,2]\n",
        "    \n",
        "    # Define blocks and steps as above\n",
        "    nxblocks = (ch1.shape[1] // pix_per_cell)-1\n",
        "    nyblocks = (ch1.shape[0] // pix_per_cell)-1 \n",
        "    nfeat_per_block = orient*cell_per_block**2\n",
        "    # 64 was the orginal sampling rate, with 8 cells and 8 pix per cell\n",
        "    window = 64\n",
        "    nblocks_per_window = (window // pix_per_cell)-1 \n",
        "    cells_per_step = 2  # Instead of overlap, define how many cells to step\n",
        "    nxsteps = (nxblocks - nblocks_per_window) // cells_per_step\n",
        "    nysteps = (nyblocks - nblocks_per_window) // cells_per_step\n",
        "    \n",
        "    # Compute individual channel HOG features for the entire image\n",
        "    hog1 = get_hog_features(ch1, orient, pix_per_cell, cell_per_block, feature_vec=False)\n",
        "    hog2 = get_hog_features(ch2, orient, pix_per_cell, cell_per_block, feature_vec=False)\n",
        "    hog3 = get_hog_features(ch3, orient, pix_per_cell, cell_per_block, feature_vec=False)\n",
        "    \n",
        "    for xb in range(nxsteps):\n",
        "        for yb in range(nysteps):\n",
        "            ypos = yb*cells_per_step\n",
        "            xpos = xb*cells_per_step\n",
        "            # Extract HOG for this patch\n",
        "            hog_feat1 = hog1[ypos:ypos+nblocks_per_window, xpos:xpos+nblocks_per_window].ravel() \n",
        "            hog_feat2 = hog2[ypos:ypos+nblocks_per_window, xpos:xpos+nblocks_per_window].ravel() \n",
        "            hog_feat3 = hog3[ypos:ypos+nblocks_per_window, xpos:xpos+nblocks_per_window].ravel() \n",
        "            hog_features = np.hstack((hog_feat1, hog_feat2, hog_feat3))\n",
        "\n",
        "            xleft = xpos*pix_per_cell\n",
        "            ytop = ypos*pix_per_cell\n",
        "\n",
        "            # Extract the image patch\n",
        "            subimg = cv2.resize(ctrans_tosearch[ytop:ytop+window, xleft:xleft+window], (64,64))\n",
        "\n",
        "            # Get color features\n",
        "            spatial_features = bin_spatial(subimg, size=spatial_size)\n",
        "            hist_features = color_hist(subimg, nbins=hist_bins)\n",
        "\n",
        "            # Scale features and make a prediction\n",
        "            test_features = X_scaler.transform(np.hstack((spatial_features, hist_features, hog_features)).reshape(1, -1))    \n",
        "            test_prediction = svc.decision_function(test_features)\n",
        " \n",
        "            xbox_left = np.int32(xleft*scale)\n",
        "            ytop_draw = np.int32(ytop*scale)\n",
        "            win_draw = np.int32(window*scale)\n",
        "            cv2.rectangle(draw_img_all_windows,(xbox_left, ytop_draw+ystart),(xbox_left+win_draw,ytop_draw+win_draw+ystart),(0,0,255),6)\n",
        "            \n",
        "            #if test_prediction == 1:\n",
        "            if test_prediction > 0.4:\n",
        "                xbox_left = np.int32(xleft*scale)\n",
        "                ytop_draw = np.int32(ytop*scale)\n",
        "                win_draw = np.int32(window*scale)\n",
        "                bbox_list.append(((xbox_left, ytop_draw + ystart), (xbox_left + win_draw, ytop_draw + win_draw + ystart)))\n",
        "                cv2.rectangle(draw_img,(xbox_left, ytop_draw+ystart),(xbox_left+win_draw,ytop_draw+win_draw+ystart),(0,0,255),6) \n",
        "                \n",
        "    return bbox_list, draw_img, draw_img_all_windows\n",
        "\n",
        "def add_heat(heatmap, bbox_list):\n",
        "    # Iterate through list of bboxes\n",
        "    for box in bbox_list:\n",
        "        # Add += 1 for all pixels inside each bbox\n",
        "        # Assuming each \"box\" takes the form ((x1, y1), (x2, y2))\n",
        "        heatmap[box[0][1]:box[1][1], box[0][0]:box[1][0]] += 1\n",
        "\n",
        "    # Return updated heatmap\n",
        "    return heatmap# Iterate through list of bboxes\n",
        "    \n",
        "def apply_threshold(heatmap, threshold):\n",
        "    # Zero out pixels below the threshold\n",
        "    heatmap[heatmap <= threshold] = 0\n",
        "    # Return thresholded map\n",
        "    return heatmap\n",
        "\n",
        "def draw_labeled_bboxes(img, labels):\n",
        "    bbox_ = []\n",
        "    # Iterate through all detected cars\n",
        "    for car_number in range(1, labels[1]+1):\n",
        "        # Find pixels with each car_number label value\n",
        "        nonzero = (labels[0] == car_number).nonzero()\n",
        "        # Identify x and y values of those pixels\n",
        "        nonzeroy = np.array(nonzero[0])\n",
        "        nonzerox = np.array(nonzero[1])\n",
        "        # Define a bounding box based on min/max x and y\n",
        "        bbox = ((np.min(nonzerox), np.min(nonzeroy)), (np.max(nonzerox), np.max(nonzeroy)))\n",
        "        # Draw the box on the image\n",
        "        cv2.rectangle(img, bbox[0], bbox[1], (0,0,255), 6)\n",
        "        bbox_.append(bbox)\n",
        "    # Return the image\n",
        "    return img, bbox_"
      ]
    },
    {
      "cell_type": "markdown",
      "metadata": {
        "id": "kabmMA2alI2b"
      },
      "source": [
        "# **Import classifier model and feature extraction settings**"
      ]
    },
    {
      "cell_type": "code",
      "execution_count": 29,
      "metadata": {
        "id": "EEYmnHtik8Vh"
      },
      "outputs": [],
      "source": [
        "import pickle\n",
        "# Load info\n",
        "dist_pickle = pickle.load( open(\"classifier_info.p\", \"rb\" ) )\n",
        "svc_l = dist_pickle[\"svc\"]\n",
        "X_scaler_l = dist_pickle[\"scaler\"]\n",
        "orient_l = dist_pickle[\"orient\"]\n",
        "pix_per_cell_l = dist_pickle[\"pix_per_cell\"]\n",
        "cell_per_block_l = dist_pickle[\"cell_per_block\"]\n",
        "spatial_size_l = dist_pickle[\"spatial_size\"]\n",
        "hist_bins_l = dist_pickle[\"hist_bins\"]\n"
      ]
    },
    {
      "cell_type": "markdown",
      "metadata": {
        "id": "cn5hRvPwlRb4"
      },
      "source": [
        "# **Test on a video**"
      ]
    },
    {
      "cell_type": "code",
      "execution_count": 30,
      "metadata": {
        "colab": {
          "base_uri": "https://localhost:8080/"
        },
        "id": "DPW3EVC2lCXo",
        "outputId": "88505682-589a-4337-8f00-9a14b7f54649"
      },
      "outputs": [],
      "source": [
        "def process_image(img):\n",
        "    heatmaps = collections.deque(maxlen=29)\n",
        "    heat = np.zeros_like(img[:,:,0]).astype(np.float32)\n",
        "    ystarts = [400]\n",
        "    ystops = [656]\n",
        "    scales = [1.5]\n",
        "    for scale, ystart, ystop  in zip(scales, ystarts, ystops):\n",
        "        box_list, out_img, out_img_windows  = find_cars(img, ystart, ystop, scale, svc_l, X_scaler_l, orient_l, pix_per_cell_l, cell_per_block_l, spatial_size_l, hist_bins_l)\n",
        "        heat = add_heat(heat,box_list)\n",
        "    # Append heatmap and compute the sum of the last n ones\n",
        "    heatmaps.append(heat)\n",
        "    sum_heatmap = np.array(heatmaps).sum(axis=0)\n",
        "    # Apply the threshold to remove false positives\n",
        "    heat = apply_threshold(sum_heatmap, 0)\n",
        "\n",
        "    # Visualize the heatmap when displaying    \n",
        "    heatmap = np.clip(heat, 0, 255)\n",
        "    \n",
        "    # Find final boxes from heatmap using label function\n",
        "    labels = label(heatmap)\n",
        "    draw_img, bbox = draw_labeled_bboxes(np.copy(img), labels)\n",
        "\n",
        "    return draw_img, bbox"
      ]
    },
    {
      "cell_type": "markdown",
      "metadata": {},
      "source": [
        "# **Progress Bar**"
      ]
    },
    {
      "cell_type": "code",
      "execution_count": 31,
      "metadata": {},
      "outputs": [],
      "source": [
        "import sys\n",
        "def progressbar(it, prefix=\"\", size=60, out=sys.stdout): # Python3.3+\n",
        "    count = len(it)\n",
        "    def show(j):\n",
        "        x = int(size*j/count)\n",
        "        print(\"{}[{}{}] {}/{}\".format(prefix, u\"█\"*x, \".\"*(size-x), j, count), \n",
        "                end='\\r', file=out, flush=True)\n",
        "    show(0)\n",
        "    for i, item in enumerate(it):\n",
        "        yield item\n",
        "        show(i+1)\n",
        "    print(\"\\n\", flush=True, file=out)"
      ]
    },
    {
      "cell_type": "markdown",
      "metadata": {},
      "source": [
        "# **Running the classifier**"
      ]
    },
    {
      "cell_type": "code",
      "execution_count": null,
      "metadata": {},
      "outputs": [],
      "source": [
        "src_path = 'SRC'\n",
        "result_path = 'RESULT.avi'\n",
        "\n",
        "# openCV's configurations to save the video on disk.\n",
        "vid                 = cv2.VideoCapture(src_path)\n",
        "total_frame_count   = int(vid.get(cv2.CAP_PROP_FRAME_COUNT))\n",
        "width               = int(vid.get(cv2.CAP_PROP_FRAME_WIDTH))\n",
        "height              = int(vid.get(cv2.CAP_PROP_FRAME_HEIGHT))\n",
        "fps                 = int(vid.get(cv2.CAP_PROP_FPS))\n",
        "codec               = cv2.VideoWriter_fourcc(*'XVID')\n",
        "out                 = cv2.VideoWriter(result_path, codec, fps, (width, height))\n",
        "\n",
        "accepted_frame = 0\n",
        "frame_count = 0 # for debugging purposes\n",
        "bboxes = []\n",
        "\n",
        "for i in progressbar(range(total_frame_count), \"Computing: \", 40):\n",
        "    return_value, frame = vid.read()\n",
        "    if return_value:\n",
        "        frame = cv2.cvtColor(frame, cv2.COLOR_BGR2RGB)\n",
        "        if accepted_frame == 0:\n",
        "            frame, bboxes = process_image(frame)\n",
        "            frame = cv2.putText(frame, 'Obtained bbox', (50, 50), cv2.FONT_HERSHEY_SIMPLEX, 1, (0, 0, 255), 2, cv2.LINE_AA)\n",
        "        elif bboxes:\n",
        "            frame = cv2.putText(frame, 'Interpolated bbox', (50, 50), cv2.FONT_HERSHEY_SIMPLEX, 1, (0, 255, 0), 2, cv2.LINE_AA)\n",
        "            for bbox in bboxes:\n",
        "                frame = cv2.rectangle(frame, bbox[0], bbox[1], (0,255,0), 6)\n",
        "        accepted_frame = (accepted_frame + 1) % 5\n",
        "        frame_count += 1\n",
        "        frame = cv2.cvtColor(frame, cv2.COLOR_BGR2RGB)\n",
        "        out.write(frame)\n",
        "        \n",
        "    else:\n",
        "        print('Video ended or an error has occurred.')\n",
        "        break\n"
      ]
    }
  ],
  "metadata": {
    "colab": {
      "collapsed_sections": [],
      "name": "HOG_car_detection.ipynb",
      "provenance": []
    },
    "interpreter": {
      "hash": "2620366fae7ac51a0e50df27d29676f6160e71257f505abcc6c788bf38b42530"
    },
    "kernelspec": {
      "display_name": "Python 3.10.4 ('env')",
      "language": "python",
      "name": "python3"
    },
    "language_info": {
      "codemirror_mode": {
        "name": "ipython",
        "version": 3
      },
      "file_extension": ".py",
      "mimetype": "text/x-python",
      "name": "python",
      "nbconvert_exporter": "python",
      "pygments_lexer": "ipython3",
      "version": "3.10.4"
    }
  },
  "nbformat": 4,
  "nbformat_minor": 0
}
