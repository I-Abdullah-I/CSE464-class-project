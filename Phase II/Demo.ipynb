{
  "cells": [
    {
      "cell_type": "markdown",
      "metadata": {
        "id": "K6ZaXiJBP-vz"
      },
      "source": [
        "# **Car Detection Project**"
      ]
    },
    {
      "cell_type": "code",
      "execution_count": 25,
      "metadata": {
        "id": "b3kC9kiiPfYW"
      },
      "outputs": [],
      "source": [
        "import numpy as np\n",
        "import cv2\n",
        "from sklearn.preprocessing import StandardScaler\n",
        "from skimage.feature import hog\n",
        "from scipy.ndimage import label\n",
        "import collections\n",
        "\n",
        "%matplotlib inline"
      ]
    },
    {
      "cell_type": "markdown",
      "metadata": {
        "id": "i8KerUY-dalL"
      },
      "source": [
        "# **Extracting Features**"
      ]
    },
    {
      "cell_type": "code",
      "execution_count": 26,
      "metadata": {
        "id": "tpRJ950bu_XY"
      },
      "outputs": [],
      "source": [
        "# Define a function to compute binned color features  \n",
        "def bin_spatial(img, size=(32, 32)):\n",
        "    # Use cv2.resize().ravel() to create the feature vector\n",
        "    features = cv2.resize(img, size).ravel() \n",
        "    # Return the feature vector\n",
        "    return features\n",
        "\n",
        "# Define a function to compute color histogram features  \n",
        "def color_hist(img, nbins=32, bins_range=(0, 256)):\n",
        "    # Compute the histogram of the color channels separately\n",
        "    channel1_hist = np.histogram(img[:,:,0], bins=nbins, range=bins_range)\n",
        "    channel2_hist = np.histogram(img[:,:,1], bins=nbins, range=bins_range)\n",
        "    channel3_hist = np.histogram(img[:,:,2], bins=nbins, range=bins_range)\n",
        "    # Concatenate the histograms into a single feature vector\n",
        "    hist_features = np.concatenate((channel1_hist[0], channel2_hist[0], channel3_hist[0]))\n",
        "    # Return the individual histograms, bin_centers and feature vector\n",
        "    return hist_features\n",
        "\n",
        "# Define a function to return HOG features and visualization\n",
        "def get_hog_features(img, orient, pix_per_cell, cell_per_block, \n",
        "                        vis=False, feature_vec=True):\n",
        "    # Call with two outputs if vis==True\n",
        "    if vis == True:\n",
        "        features, hog_image = hog(img, orientations=orient, pixels_per_cell=(pix_per_cell, pix_per_cell),\n",
        "                                  cells_per_block=(cell_per_block, cell_per_block), transform_sqrt=True, \n",
        "                                  visualize=vis, feature_vector=feature_vec)\n",
        "        return features, hog_image\n",
        "    # Otherwise call with one output\n",
        "    else:      \n",
        "        features = hog(img, orientations=orient, pixels_per_cell=(pix_per_cell, pix_per_cell),\n",
        "                       cells_per_block=(cell_per_block, cell_per_block), transform_sqrt=True, \n",
        "                       visualize=vis, feature_vector=feature_vec)\n",
        "        return features\n",
        "\n",
        "# Define a function to extract features from a list of images\n",
        "# Have this function call bin_spatial() and color_hist()\n",
        "def extract_features(imgs, spatial_size=(32, 32),\n",
        "                        hist_bins=32, hist_range=(0, 256),  orient=9, \n",
        "                        pix_per_cell=8, cell_per_block=2, hog_channel=0, vis=False):\n",
        "    # Create a list to append feature vectors to\n",
        "    features = []\n",
        "    # Iterate through the list of images\n",
        "    for file in imgs:\n",
        "        # Read in each one by one\n",
        "        image = cv2.imread(file)\n",
        "        # apply color conversion to YCrCb\n",
        "        feature_image = cv2.cvtColor(image, cv2.COLOR_BGR2YCrCb)\n",
        "   \n",
        "        # Apply bin_spatial() to get spatial color features\n",
        "        spatial_features = bin_spatial(feature_image, size=spatial_size)\n",
        "        # Apply color_hist() also with a color space option now\n",
        "        hist_features = color_hist(feature_image, nbins=hist_bins, bins_range=hist_range)\n",
        "        \n",
        "        # Call get_hog_features() with vis=False, feature_vec=True\n",
        "        \n",
        "        if hog_channel == 'ALL':\n",
        "            hog_features = []\n",
        "            for channel in range(feature_image.shape[2]):\n",
        "                hog_features.append(get_hog_features(feature_image[:,:,channel], \n",
        "                                    orient, pix_per_cell, cell_per_block, \n",
        "                                    vis=False, feature_vec=True))\n",
        "            hog_features = np.ravel(hog_features)        \n",
        "        else:\n",
        "            hog_features = get_hog_features(feature_image[:,:,hog_channel], orient, \n",
        "                        pix_per_cell, cell_per_block, vis=False, feature_vec=True)\n",
        "        \n",
        "        # Append the new feature vector to the features list\n",
        "        features.append(np.concatenate((spatial_features, hist_features, hog_features)))\n",
        "    # Return list of feature vectors\n",
        "    return features"
      ]
    },
    {
      "cell_type": "markdown",
      "metadata": {
        "id": "8sAMZATBkB39"
      },
      "source": [
        "# **Define parameters**\n"
      ]
    },
    {
      "cell_type": "code",
      "execution_count": 27,
      "metadata": {
        "id": "dHEaxQZUkFH2"
      },
      "outputs": [],
      "source": [
        "# Define HOG parameters\n",
        "orient = 12\n",
        "pix_per_cell = 8\n",
        "cell_per_block = 2\n",
        "hog_channel = \"ALL\" # Can be 0, 1, 2, or \"ALL\"\n",
        "\n",
        "# Spatial size and histogram parameters\n",
        "spatial_size=(16, 16)\n",
        "hist_bins=16"
      ]
    },
    {
      "cell_type": "markdown",
      "metadata": {
        "id": "p0zPk2NZkzNL"
      },
      "source": [
        "# **Extract features and make prediction**"
      ]
    },
    {
      "cell_type": "code",
      "execution_count": 28,
      "metadata": {
        "id": "OmTid_E2k2Ou"
      },
      "outputs": [],
      "source": [
        "# Define a single function that can extract features using hog sub-sampling and make predictions\n",
        "def find_cars(img, ystart, ystop, scale, svc, X_scaler, orient, pix_per_cell, cell_per_block, spatial_size, hist_bins):\n",
        "    draw_img = np.copy(img)\n",
        "    draw_img_all_windows = np.copy(img)\n",
        "    img = img.astype(np.float32)/255\n",
        "\n",
        "    \n",
        "    bbox_list = []\n",
        "    \n",
        "    img_tosearch = img[ystart:ystop,:,:]\n",
        "    ####################################\n",
        "    # img_tosearch_temp = cv2.putText(np.copy(img_tosearch), 'img size = {}'.format(img_tosearch.shape), (50, 50), cv2.FONT_HERSHEY_SIMPLEX, 1, (255, 0, 0), 2, cv2.LINE_AA)\n",
        "    # cv2.imshow('img_tosearch_temp', img_tosearch_temp)\n",
        "    # cv2.waitKey(0)\n",
        "    # cv2.destroyAllWindows()\n",
        "    ####################################\n",
        "    ctrans_tosearch =  cv2.cvtColor(img_tosearch, cv2.COLOR_RGB2YCrCb)\n",
        "    if scale != 1:\n",
        "        imshape = ctrans_tosearch.shape\n",
        "        ctrans_tosearch = cv2.resize(ctrans_tosearch, (np.int32(imshape[1]/scale), np.int32(imshape[0]/scale)))\n",
        "        \n",
        "    ch1 = ctrans_tosearch[:,:,0]\n",
        "    ch2 = ctrans_tosearch[:,:,1]\n",
        "    ch3 = ctrans_tosearch[:,:,2]\n",
        "    \n",
        "    # Define blocks and steps as above\n",
        "    nxblocks = (ch1.shape[1] // pix_per_cell)-1\n",
        "    nyblocks = (ch1.shape[0] // pix_per_cell)-1 \n",
        "    nfeat_per_block = orient*cell_per_block**2\n",
        "    # 64 was the orginal sampling rate, with 8 cells and 8 pix per cell\n",
        "    window = 64\n",
        "    nblocks_per_window = (window // pix_per_cell)-1 \n",
        "    cells_per_step = 2  # Instead of overlap, define how many cells to step\n",
        "    nxsteps = (nxblocks - nblocks_per_window) // cells_per_step\n",
        "    nysteps = (nyblocks - nblocks_per_window) // cells_per_step\n",
        "    \n",
        "    # Compute individual channel HOG features for the entire image\n",
        "    hog1 = get_hog_features(ch1, orient, pix_per_cell, cell_per_block, feature_vec=False)\n",
        "    hog2 = get_hog_features(ch2, orient, pix_per_cell, cell_per_block, feature_vec=False)\n",
        "    hog3 = get_hog_features(ch3, orient, pix_per_cell, cell_per_block, feature_vec=False)\n",
        "    \n",
        "    for xb in range(nxsteps):\n",
        "        for yb in range(nysteps):\n",
        "            ypos = yb*cells_per_step\n",
        "            xpos = xb*cells_per_step\n",
        "            # Extract HOG for this patch\n",
        "            hog_feat1 = hog1[ypos:ypos+nblocks_per_window, xpos:xpos+nblocks_per_window].ravel() \n",
        "            hog_feat2 = hog2[ypos:ypos+nblocks_per_window, xpos:xpos+nblocks_per_window].ravel() \n",
        "            hog_feat3 = hog3[ypos:ypos+nblocks_per_window, xpos:xpos+nblocks_per_window].ravel() \n",
        "            hog_features = np.hstack((hog_feat1, hog_feat2, hog_feat3))\n",
        "\n",
        "            xleft = xpos*pix_per_cell\n",
        "            ytop = ypos*pix_per_cell\n",
        "\n",
        "            # Extract the image patch\n",
        "            subimg = cv2.resize(ctrans_tosearch[ytop:ytop+window, xleft:xleft+window], (64,64))\n",
        "\n",
        "            # Get color features\n",
        "            spatial_features = bin_spatial(subimg, size=spatial_size)\n",
        "            hist_features = color_hist(subimg, nbins=hist_bins)\n",
        "\n",
        "            # Scale features and make a prediction\n",
        "            test_features = X_scaler.transform(np.hstack((spatial_features, hist_features, hog_features)).reshape(1, -1))    \n",
        "            #test_features = X_scaler.transform(np.hstack((shape_feat, hist_feat)).reshape(1, -1))    \n",
        "            #test_prediction = svc.predict(test_features)\n",
        "            test_prediction = svc.decision_function(test_features)\n",
        " \n",
        "            xbox_left = np.int32(xleft*scale)\n",
        "            ytop_draw = np.int32(ytop*scale)\n",
        "            win_draw = np.int32(window*scale)\n",
        "            cv2.rectangle(draw_img_all_windows,(xbox_left, ytop_draw+ystart),(xbox_left+win_draw,ytop_draw+win_draw+ystart),(0,0,255),6)\n",
        "            # cv2.imshow('draw_img_all_windows', draw_img_all_windows)\n",
        "            # cv2.waitKey(0)\n",
        "            # cv2.destroyAllWindows()\n",
        "            \n",
        "            #if test_prediction == 1:\n",
        "            if test_prediction > 0.4:\n",
        "                xbox_left = np.int32(xleft*scale)\n",
        "                ytop_draw = np.int32(ytop*scale)\n",
        "                win_draw = np.int32(window*scale)\n",
        "                bbox_list.append(((xbox_left, ytop_draw + ystart), (xbox_left + win_draw, ytop_draw + win_draw + ystart)))\n",
        "                cv2.rectangle(draw_img,(xbox_left, ytop_draw+ystart),(xbox_left+win_draw,ytop_draw+win_draw+ystart),(0,0,255),6) \n",
        "                \n",
        "                # str_on_img_1 = 'xbox_left: {} - ytop_draw+ystart: {} - xbox_left+win_draw: {}'.format(xbox_left, ytop_draw+ystart, xbox_left+win_draw)\n",
        "                # str_on_img_2 = 'ytop_draw+win_draw+ystart: {}'.format(ytop_draw+win_draw+ystart)\n",
        "                # img = cv2.putText(draw_img, str_on_img_1, (50, 50), cv2.FONT_HERSHEY_SIMPLEX, 1, (255, 0, 0), 2, cv2.LINE_AA)\n",
        "                # img = cv2.putText(img, str_on_img_2, (50, 100), cv2.FONT_HERSHEY_SIMPLEX, 1, (255, 0, 0), 2, cv2.LINE_AA)\n",
        "                # cv2.imshow('img', img)\n",
        "                # cv2.waitKey(0)\n",
        "                # cv2.destroyAllWindows()\n",
        "                \n",
        "    return bbox_list, draw_img, draw_img_all_windows\n",
        "\n",
        "def add_heat(heatmap, bbox_list):\n",
        "    # Iterate through list of bboxes\n",
        "    for box in bbox_list:\n",
        "        # Add += 1 for all pixels inside each bbox\n",
        "        # Assuming each \"box\" takes the form ((x1, y1), (x2, y2))\n",
        "        heatmap[box[0][1]:box[1][1], box[0][0]:box[1][0]] += 1\n",
        "        \n",
        "        # Visualizing the heatmap\n",
        "        # cv2.imshow('heatmap', heatmap)\n",
        "        # cv2.waitKey(0)\n",
        "        # cv2.destroyAllWindows()\n",
        "\n",
        "    # Return updated heatmap\n",
        "    return heatmap# Iterate through list of bboxes\n",
        "    \n",
        "def apply_threshold(heatmap, threshold):\n",
        "    # Zero out pixels below the threshold\n",
        "    heatmap[heatmap <= threshold] = 0\n",
        "    # Return thresholded map\n",
        "    return heatmap\n",
        "\n",
        "def draw_labeled_bboxes(img, labels):\n",
        "    bbox_ = []\n",
        "    # Iterate through all detected cars\n",
        "    for car_number in range(1, labels[1]+1):\n",
        "        # Find pixels with each car_number label value\n",
        "        nonzero = (labels[0] == car_number).nonzero()\n",
        "        # Identify x and y values of those pixels\n",
        "        nonzeroy = np.array(nonzero[0])\n",
        "        nonzerox = np.array(nonzero[1])\n",
        "        # Define a bounding box based on min/max x and y\n",
        "        bbox = ((np.min(nonzerox), np.min(nonzeroy)), (np.max(nonzerox), np.max(nonzeroy)))\n",
        "        # Draw the box on the image\n",
        "        cv2.rectangle(img, bbox[0], bbox[1], (0,0,255), 6)\n",
        "        bbox_.append(bbox)\n",
        "    # Return the image\n",
        "    return img, bbox_"
      ]
    },
    {
      "cell_type": "markdown",
      "metadata": {
        "id": "kabmMA2alI2b"
      },
      "source": [
        "# **Import classifier model and feature extraction settings**"
      ]
    },
    {
      "cell_type": "code",
      "execution_count": 29,
      "metadata": {
        "id": "EEYmnHtik8Vh"
      },
      "outputs": [],
      "source": [
        "import pickle\n",
        "# Load info\n",
        "dist_pickle = pickle.load( open(\"classifier_info.p\", \"rb\" ) )\n",
        "svc_l = dist_pickle[\"svc\"]\n",
        "X_scaler_l = dist_pickle[\"scaler\"]\n",
        "orient_l = dist_pickle[\"orient\"]\n",
        "pix_per_cell_l = dist_pickle[\"pix_per_cell\"]\n",
        "cell_per_block_l = dist_pickle[\"cell_per_block\"]\n",
        "spatial_size_l = dist_pickle[\"spatial_size\"]\n",
        "hist_bins_l = dist_pickle[\"hist_bins\"]\n"
      ]
    },
    {
      "cell_type": "markdown",
      "metadata": {
        "id": "cn5hRvPwlRb4"
      },
      "source": [
        "# **Test on a video**"
      ]
    },
    {
      "cell_type": "code",
      "execution_count": 30,
      "metadata": {
        "colab": {
          "base_uri": "https://localhost:8080/"
        },
        "id": "DPW3EVC2lCXo",
        "outputId": "88505682-589a-4337-8f00-9a14b7f54649"
      },
      "outputs": [],
      "source": [
        "def process_image(img):\n",
        "    heatmaps = collections.deque(maxlen=29)\n",
        "    # global heatmaps\n",
        "\n",
        "    heat = np.zeros_like(img[:,:,0]).astype(np.float32)\n",
        "    \n",
        "    # ystarts = [400,350,350]\n",
        "    # ystops = [656,570,570]\n",
        "    ystarts = [400]\n",
        "    ystops = [656]\n",
        "    # ystarts = [200,175,175]\n",
        "    # ystops = [328,285,285]\n",
        "    \n",
        "    # Look for cars at different scales\n",
        "    # scales = [1., 1.5, 2.0]\n",
        "    # scales = [1.0, 2.0]\n",
        "    scales = [1.5]\n",
        "    for scale, ystart, ystop  in zip(scales, ystarts, ystops):\n",
        "        box_list, out_img, out_img_windows  = find_cars(img, ystart, ystop, scale, svc_l, X_scaler_l, orient_l, pix_per_cell_l, cell_per_block_l, spatial_size_l, hist_bins_l)\n",
        "        heat = add_heat(heat,box_list)\n",
        "    # Append heatmap and compute the sum of the last n ones\n",
        "    heatmaps.append(heat)\n",
        "    sum_heatmap = np.array(heatmaps).sum(axis=0)\n",
        "    # Apply the threshold to remove false positives\n",
        "    # heat = apply_threshold(sum_heatmap, min(len(heatmaps) * 1, 28))\n",
        "    # print(min(len(heatmaps) * 1, 28))\n",
        "    heat = apply_threshold(sum_heatmap, 0)\n",
        "\n",
        "    # Visualize the heatmap when displaying    \n",
        "    heatmap = np.clip(heat, 0, 255)\n",
        "    \n",
        "    # Find final boxes from heatmap using label function\n",
        "    labels = label(heatmap)\n",
        "    draw_img, bbox = draw_labeled_bboxes(np.copy(img), labels)\n",
        "    \n",
        "    # visualizing heatmaps in numbers\n",
        "    # print('threshold = {}'.format(min(len(heatmaps) * 1, 28)))\n",
        "    # cv2.imshow('sum_heatmap: ', sum_heatmap)\n",
        "    # cv2.imshow('thresholded heatmap: ', heat)\n",
        "    # cv2.waitKey(0)\n",
        "    # cv2.destroyAllWindows()\n",
        "    return draw_img, bbox\n",
        "\n"
      ]
    },
    {
      "cell_type": "code",
      "execution_count": 31,
      "metadata": {},
      "outputs": [],
      "source": [
        "import sys\n",
        "def progressbar(it, prefix=\"\", size=60, out=sys.stdout): # Python3.3+\n",
        "    count = len(it)\n",
        "    def show(j):\n",
        "        x = int(size*j/count)\n",
        "        print(\"{}[{}{}] {}/{}\".format(prefix, u\"█\"*x, \".\"*(size-x), j, count), \n",
        "                end='\\r', file=out, flush=True)\n",
        "    show(0)\n",
        "    for i, item in enumerate(it):\n",
        "        yield item\n",
        "        show(i+1)\n",
        "    print(\"\\n\", flush=True, file=out)"
      ]
    },
    {
      "cell_type": "markdown",
      "metadata": {},
      "source": [
        "# **Running the classifier**"
      ]
    },
    {
      "cell_type": "code",
      "execution_count": 32,
      "metadata": {},
      "outputs": [
        {
          "name": "stdout",
          "output_type": "stream",
          "text": [
            "Computing: [████....................................] 59/484\r"
          ]
        },
        {
          "ename": "KeyboardInterrupt",
          "evalue": "",
          "output_type": "error",
          "traceback": [
            "\u001b[0;31m---------------------------------------------------------------------------\u001b[0m",
            "\u001b[0;31mKeyboardInterrupt\u001b[0m                         Traceback (most recent call last)",
            "\u001b[1;32m/home/abdullah/Desktop/Uni/Image Processing/Project/src/CSE464-class-project/Phase II/Demo.ipynb Cell 15'\u001b[0m in \u001b[0;36m<cell line: 21>\u001b[0;34m()\u001b[0m\n\u001b[1;32m     <a href='vscode-notebook-cell:/home/abdullah/Desktop/Uni/Image%20Processing/Project/src/CSE464-class-project/Phase%20II/Demo.ipynb#ch0000013?line=17'>18</a>\u001b[0m frame_count \u001b[39m=\u001b[39m \u001b[39m0\u001b[39m\n\u001b[1;32m     <a href='vscode-notebook-cell:/home/abdullah/Desktop/Uni/Image%20Processing/Project/src/CSE464-class-project/Phase%20II/Demo.ipynb#ch0000013?line=18'>19</a>\u001b[0m bboxes \u001b[39m=\u001b[39m []\n\u001b[0;32m---> <a href='vscode-notebook-cell:/home/abdullah/Desktop/Uni/Image%20Processing/Project/src/CSE464-class-project/Phase%20II/Demo.ipynb#ch0000013?line=20'>21</a>\u001b[0m \u001b[39mfor\u001b[39;00m i \u001b[39min\u001b[39;00m progressbar(\u001b[39mrange\u001b[39m(total_frame_count), \u001b[39m\"\u001b[39m\u001b[39mComputing: \u001b[39m\u001b[39m\"\u001b[39m, \u001b[39m40\u001b[39m):\n\u001b[1;32m     <a href='vscode-notebook-cell:/home/abdullah/Desktop/Uni/Image%20Processing/Project/src/CSE464-class-project/Phase%20II/Demo.ipynb#ch0000013?line=21'>22</a>\u001b[0m     \u001b[39m# time.sleep(0.1) # any code you need\u001b[39;00m\n\u001b[1;32m     <a href='vscode-notebook-cell:/home/abdullah/Desktop/Uni/Image%20Processing/Project/src/CSE464-class-project/Phase%20II/Demo.ipynb#ch0000013?line=22'>23</a>\u001b[0m \u001b[39m# while True:\u001b[39;00m\n\u001b[1;32m     <a href='vscode-notebook-cell:/home/abdullah/Desktop/Uni/Image%20Processing/Project/src/CSE464-class-project/Phase%20II/Demo.ipynb#ch0000013?line=23'>24</a>\u001b[0m     return_value, frame \u001b[39m=\u001b[39m vid\u001b[39m.\u001b[39mread()\n\u001b[1;32m     <a href='vscode-notebook-cell:/home/abdullah/Desktop/Uni/Image%20Processing/Project/src/CSE464-class-project/Phase%20II/Demo.ipynb#ch0000013?line=24'>25</a>\u001b[0m     \u001b[39mif\u001b[39;00m return_value:\n",
            "\u001b[1;32m/home/abdullah/Desktop/Uni/Image Processing/Project/src/CSE464-class-project/Phase II/Demo.ipynb Cell 13'\u001b[0m in \u001b[0;36mprogressbar\u001b[0;34m(it, prefix, size, out)\u001b[0m\n\u001b[1;32m      <a href='vscode-notebook-cell:/home/abdullah/Desktop/Uni/Image%20Processing/Project/src/CSE464-class-project/Phase%20II/Demo.ipynb#ch0000014?line=8'>9</a>\u001b[0m \u001b[39mfor\u001b[39;00m i, item \u001b[39min\u001b[39;00m \u001b[39menumerate\u001b[39m(it):\n\u001b[1;32m     <a href='vscode-notebook-cell:/home/abdullah/Desktop/Uni/Image%20Processing/Project/src/CSE464-class-project/Phase%20II/Demo.ipynb#ch0000014?line=9'>10</a>\u001b[0m     \u001b[39myield\u001b[39;00m item\n\u001b[0;32m---> <a href='vscode-notebook-cell:/home/abdullah/Desktop/Uni/Image%20Processing/Project/src/CSE464-class-project/Phase%20II/Demo.ipynb#ch0000014?line=10'>11</a>\u001b[0m     show(i\u001b[39m+\u001b[39;49m\u001b[39m1\u001b[39;49m)\n\u001b[1;32m     <a href='vscode-notebook-cell:/home/abdullah/Desktop/Uni/Image%20Processing/Project/src/CSE464-class-project/Phase%20II/Demo.ipynb#ch0000014?line=11'>12</a>\u001b[0m \u001b[39mprint\u001b[39m(\u001b[39m\"\u001b[39m\u001b[39m\\n\u001b[39;00m\u001b[39m\"\u001b[39m, flush\u001b[39m=\u001b[39m\u001b[39mTrue\u001b[39;00m, file\u001b[39m=\u001b[39mout)\n",
            "\u001b[1;32m/home/abdullah/Desktop/Uni/Image Processing/Project/src/CSE464-class-project/Phase II/Demo.ipynb Cell 13'\u001b[0m in \u001b[0;36mprogressbar.<locals>.show\u001b[0;34m(j)\u001b[0m\n\u001b[1;32m      <a href='vscode-notebook-cell:/home/abdullah/Desktop/Uni/Image%20Processing/Project/src/CSE464-class-project/Phase%20II/Demo.ipynb#ch0000014?line=3'>4</a>\u001b[0m \u001b[39mdef\u001b[39;00m \u001b[39mshow\u001b[39m(j):\n\u001b[1;32m      <a href='vscode-notebook-cell:/home/abdullah/Desktop/Uni/Image%20Processing/Project/src/CSE464-class-project/Phase%20II/Demo.ipynb#ch0000014?line=4'>5</a>\u001b[0m     x \u001b[39m=\u001b[39m \u001b[39mint\u001b[39m(size\u001b[39m*\u001b[39mj\u001b[39m/\u001b[39mcount)\n\u001b[0;32m----> <a href='vscode-notebook-cell:/home/abdullah/Desktop/Uni/Image%20Processing/Project/src/CSE464-class-project/Phase%20II/Demo.ipynb#ch0000014?line=5'>6</a>\u001b[0m     \u001b[39mprint\u001b[39;49m(\u001b[39m\"\u001b[39;49m\u001b[39m{}\u001b[39;49;00m\u001b[39m[\u001b[39;49m\u001b[39m{}\u001b[39;49;00m\u001b[39m{}\u001b[39;49;00m\u001b[39m] \u001b[39;49m\u001b[39m{}\u001b[39;49;00m\u001b[39m/\u001b[39;49m\u001b[39m{}\u001b[39;49;00m\u001b[39m\"\u001b[39;49m\u001b[39m.\u001b[39;49mformat(prefix, \u001b[39mu\u001b[39;49m\u001b[39m\"\u001b[39;49m\u001b[39m█\u001b[39;49m\u001b[39m\"\u001b[39;49m\u001b[39m*\u001b[39;49mx, \u001b[39m\"\u001b[39;49m\u001b[39m.\u001b[39;49m\u001b[39m\"\u001b[39;49m\u001b[39m*\u001b[39;49m(size\u001b[39m-\u001b[39;49mx), j, count), \n\u001b[1;32m      <a href='vscode-notebook-cell:/home/abdullah/Desktop/Uni/Image%20Processing/Project/src/CSE464-class-project/Phase%20II/Demo.ipynb#ch0000014?line=6'>7</a>\u001b[0m             end\u001b[39m=\u001b[39;49m\u001b[39m'\u001b[39;49m\u001b[39m\\r\u001b[39;49;00m\u001b[39m'\u001b[39;49m, file\u001b[39m=\u001b[39;49mout, flush\u001b[39m=\u001b[39;49m\u001b[39mTrue\u001b[39;49;00m)\n",
            "File \u001b[0;32m~/Desktop/GradProject/env/lib/python3.10/site-packages/ipykernel/iostream.py:487\u001b[0m, in \u001b[0;36mOutStream.flush\u001b[0;34m(self)\u001b[0m\n\u001b[1;32m    <a href='file:///home/abdullah/Desktop/GradProject/env/lib/python3.10/site-packages/ipykernel/iostream.py?line=484'>485</a>\u001b[0m     \u001b[39mself\u001b[39m\u001b[39m.\u001b[39mpub_thread\u001b[39m.\u001b[39mschedule(evt\u001b[39m.\u001b[39mset)\n\u001b[1;32m    <a href='file:///home/abdullah/Desktop/GradProject/env/lib/python3.10/site-packages/ipykernel/iostream.py?line=485'>486</a>\u001b[0m     \u001b[39m# and give a timeout to avoid\u001b[39;00m\n\u001b[0;32m--> <a href='file:///home/abdullah/Desktop/GradProject/env/lib/python3.10/site-packages/ipykernel/iostream.py?line=486'>487</a>\u001b[0m     \u001b[39mif\u001b[39;00m \u001b[39mnot\u001b[39;00m evt\u001b[39m.\u001b[39;49mwait(\u001b[39mself\u001b[39;49m\u001b[39m.\u001b[39;49mflush_timeout):\n\u001b[1;32m    <a href='file:///home/abdullah/Desktop/GradProject/env/lib/python3.10/site-packages/ipykernel/iostream.py?line=487'>488</a>\u001b[0m         \u001b[39m# write directly to __stderr__ instead of warning because\u001b[39;00m\n\u001b[1;32m    <a href='file:///home/abdullah/Desktop/GradProject/env/lib/python3.10/site-packages/ipykernel/iostream.py?line=488'>489</a>\u001b[0m         \u001b[39m# if this is happening sys.stderr may be the problem.\u001b[39;00m\n\u001b[1;32m    <a href='file:///home/abdullah/Desktop/GradProject/env/lib/python3.10/site-packages/ipykernel/iostream.py?line=489'>490</a>\u001b[0m         \u001b[39mprint\u001b[39m(\u001b[39m\"\u001b[39m\u001b[39mIOStream.flush timed out\u001b[39m\u001b[39m\"\u001b[39m, file\u001b[39m=\u001b[39msys\u001b[39m.\u001b[39m__stderr__)\n\u001b[1;32m    <a href='file:///home/abdullah/Desktop/GradProject/env/lib/python3.10/site-packages/ipykernel/iostream.py?line=490'>491</a>\u001b[0m \u001b[39melse\u001b[39;00m:\n",
            "File \u001b[0;32m/usr/lib/python3.10/threading.py:600\u001b[0m, in \u001b[0;36mEvent.wait\u001b[0;34m(self, timeout)\u001b[0m\n\u001b[1;32m    <a href='file:///usr/lib/python3.10/threading.py?line=597'>598</a>\u001b[0m signaled \u001b[39m=\u001b[39m \u001b[39mself\u001b[39m\u001b[39m.\u001b[39m_flag\n\u001b[1;32m    <a href='file:///usr/lib/python3.10/threading.py?line=598'>599</a>\u001b[0m \u001b[39mif\u001b[39;00m \u001b[39mnot\u001b[39;00m signaled:\n\u001b[0;32m--> <a href='file:///usr/lib/python3.10/threading.py?line=599'>600</a>\u001b[0m     signaled \u001b[39m=\u001b[39m \u001b[39mself\u001b[39;49m\u001b[39m.\u001b[39;49m_cond\u001b[39m.\u001b[39;49mwait(timeout)\n\u001b[1;32m    <a href='file:///usr/lib/python3.10/threading.py?line=600'>601</a>\u001b[0m \u001b[39mreturn\u001b[39;00m signaled\n",
            "File \u001b[0;32m/usr/lib/python3.10/threading.py:324\u001b[0m, in \u001b[0;36mCondition.wait\u001b[0;34m(self, timeout)\u001b[0m\n\u001b[1;32m    <a href='file:///usr/lib/python3.10/threading.py?line=321'>322</a>\u001b[0m \u001b[39melse\u001b[39;00m:\n\u001b[1;32m    <a href='file:///usr/lib/python3.10/threading.py?line=322'>323</a>\u001b[0m     \u001b[39mif\u001b[39;00m timeout \u001b[39m>\u001b[39m \u001b[39m0\u001b[39m:\n\u001b[0;32m--> <a href='file:///usr/lib/python3.10/threading.py?line=323'>324</a>\u001b[0m         gotit \u001b[39m=\u001b[39m waiter\u001b[39m.\u001b[39;49macquire(\u001b[39mTrue\u001b[39;49;00m, timeout)\n\u001b[1;32m    <a href='file:///usr/lib/python3.10/threading.py?line=324'>325</a>\u001b[0m     \u001b[39melse\u001b[39;00m:\n\u001b[1;32m    <a href='file:///usr/lib/python3.10/threading.py?line=325'>326</a>\u001b[0m         gotit \u001b[39m=\u001b[39m waiter\u001b[39m.\u001b[39macquire(\u001b[39mFalse\u001b[39;00m)\n",
            "\u001b[0;31mKeyboardInterrupt\u001b[0m: "
          ]
        }
      ],
      "source": [
        "import time    \n",
        "\n",
        "\n",
        "src_path = 'test2.mp4'\n",
        "result_path = 'test_2_out.avi'\n",
        "# result_path = 'detection_results_scale_only_1.5_y_scanned_256_modulo_5_semi_final_V.1.avi'\n",
        "\n",
        "# openCV's configurations to save the video on disk.\n",
        "vid                 = cv2.VideoCapture(src_path)\n",
        "total_frame_count   = int(vid.get(cv2.CAP_PROP_FRAME_COUNT))\n",
        "width               = int(vid.get(cv2.CAP_PROP_FRAME_WIDTH))\n",
        "height              = int(vid.get(cv2.CAP_PROP_FRAME_HEIGHT))\n",
        "fps                 = int(vid.get(cv2.CAP_PROP_FPS))\n",
        "codec               = cv2.VideoWriter_fourcc(*'XVID')\n",
        "out                 = cv2.VideoWriter(result_path, codec, fps, (width, height))\n",
        "\n",
        "accepted_frame = 0\n",
        "frame_count = 0\n",
        "bboxes = []\n",
        "\n",
        "for i in progressbar(range(total_frame_count), \"Computing: \", 40):\n",
        "    # time.sleep(0.1) # any code you need\n",
        "# while True:\n",
        "    return_value, frame = vid.read()\n",
        "    if return_value:\n",
        "        frame = cv2.cvtColor(frame, cv2.COLOR_BGR2RGB)\n",
        "        if accepted_frame == 0:\n",
        "            frame, bboxes = process_image(frame)\n",
        "            frame = cv2.putText(frame, 'Obtained bbox', (50, 50), cv2.FONT_HERSHEY_SIMPLEX, 1, (0, 0, 255), 2, cv2.LINE_AA)\n",
        "        elif bboxes:\n",
        "            frame = cv2.putText(frame, 'Interpolated bbox', (50, 50), cv2.FONT_HERSHEY_SIMPLEX, 1, (0, 255, 0), 2, cv2.LINE_AA)\n",
        "            for bbox in bboxes:\n",
        "                frame = cv2.rectangle(frame, bbox[0], bbox[1], (0,255,0), 6)\n",
        "        accepted_frame = (accepted_frame + 1) % 5\n",
        "        frame_count += 1\n",
        "        # print(\"Frame number: \", frame_count)\n",
        "        frame = cv2.cvtColor(frame, cv2.COLOR_BGR2RGB)\n",
        "        # if frame_count > 100:\n",
        "        #     cv2.imshow('frame no.{}'.format(frame_count), frame)\n",
        "        #     cv2.waitKey(0)\n",
        "        #     cv2.destroyAllWindows()\n",
        "        # elif frame_count == 1:\n",
        "        #     break\n",
        "        out.write(frame)\n",
        "        \n",
        "    else:\n",
        "        print('Video ended or an error has occurred.')\n",
        "        break\n"
      ]
    }
  ],
  "metadata": {
    "colab": {
      "collapsed_sections": [],
      "name": "HOG_car_detection.ipynb",
      "provenance": []
    },
    "interpreter": {
      "hash": "2620366fae7ac51a0e50df27d29676f6160e71257f505abcc6c788bf38b42530"
    },
    "kernelspec": {
      "display_name": "Python 3.10.4 ('env')",
      "language": "python",
      "name": "python3"
    },
    "language_info": {
      "codemirror_mode": {
        "name": "ipython",
        "version": 3
      },
      "file_extension": ".py",
      "mimetype": "text/x-python",
      "name": "python",
      "nbconvert_exporter": "python",
      "pygments_lexer": "ipython3",
      "version": "3.10.4"
    }
  },
  "nbformat": 4,
  "nbformat_minor": 0
}
